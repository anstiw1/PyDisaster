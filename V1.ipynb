{
 "cells": [
  {
   "cell_type": "code",
   "execution_count": 1,
   "metadata": {},
   "outputs": [],
   "source": [
    "import pandas as pd\n",
    "import requests\n",
    "#import piexif - Do not need PIEXIF\n",
    "from google.cloud import vision\n",
    "from google.cloud.vision import types\n",
    "from google.oauth2 import service_account\n",
    "import os\n",
    "import io\n",
    "import json\n",
    "from flask import Flask, render_template, request\n",
    "from werkzeug.utils import secure_filename\n",
    "from PIL import Image\n",
    "from PIL.ExifTags import TAGS, GPSTAGS\n",
    "from bs4 import BeautifulSoup"
   ]
  },
  {
   "cell_type": "code",
   "execution_count": 2,
   "metadata": {},
   "outputs": [],
   "source": [
    "FOLDER = '/Documents/Uploads'\n",
    "APIKEY = pd.read_csv('/Users/anshul/Documents/APIKEYS/google_api_key.csv')\n",
    "GOOGLE_SERVICE = '/Users/anshul/Downloads/My Project-93e8fa84a8bb.json'\n",
    "N_ADDRESS = 4\n",
    "trial_photo_location = 'Assets/trial.jpg'\n",
    "initial_columns = ['GPSLongitude', 'GPSLatitudeRef', 'GPSLatitude', 'GPSLongitudeRef', 'DateTimeOriginal', 'PhotoName']\n",
    "new_columns = ['GPSLongitude', 'GPSLatitudeRef', 'GPSLatitude', 'GPSLongitudeRef']\n",
    "disasters = pd.DataFrame(columns = initial_columns)\n",
    "disasters2 = disasters.to_csv('disasters.csv', mode = 'a', header = True, index = False)\n",
    "\n",
    "def get_exif_data(img):\n",
    "    exif = Image.open(img)._getexif()\n",
    "    if exif is not None:\n",
    "        for key, value in exif.items():\n",
    "            name = TAGS.get(key, key)\n",
    "            exif[name] = exif.pop(key)\n",
    "    else:\n",
    "        return print(\"No GPS/Location Data Exists!\")\n",
    "    \n",
    "    # Iphone\n",
    "    if 'GPSInfo' in exif: #Exif/GPS data is lost when an image is uploaded to Slack, we NEED RAW data.\n",
    "        for key in exif['GPSInfo'].keys():\n",
    "            name = GPSTAGS.get(key, key)\n",
    "            exif['GPSInfo'][name] = exif['GPSInfo'].pop(key)\n",
    "        exif_df = pd.DataFrame.from_dict(exif['GPSInfo'], orient='index') # Save to DataFrame from Dictionary\n",
    "        exif_df = exif_df.T[new_columns]\n",
    "        exif_datetime = pd.DataFrame.from_dict(exif, orient='index') # Isolate DateTimeOriginal from original exif dictionary\n",
    "        exif_df['DateTimeOriginal'] = exif_datetime.T['DateTimeOriginal'] # Add new column to exif_df with DateTimeOriginal\n",
    "        exif_df[\"PhotoName\"] = img[7:]\n",
    "        exif_df\n",
    "        disasters.append(exif_df)\n",
    "        return exif_df.to_csv('disasters.csv', mode='a', header=False, index=False) \n",
    "    \n",
    "    # Android\n",
    "    if 34853 in exif: #Exif data from Android phones\n",
    "        for key in exif[34853].keys():\n",
    "            name = GPSTAGS.get(key, key)\n",
    "            exif[34853][name] = exif[34853].pop(key)\n",
    "        exif_df_android = pd.DataFrame.from_dict(exif[34853], orient='index') \n",
    "        exif_df_android = exif_df_android.T[new_columns]\n",
    "        exif_df_android['DateTimeOriginal'] = exif['DateTimeOriginal']\n",
    "        exif_df_android[\"PhotoName\"] = img[7:]\n",
    "        exif_df_android\n",
    "        disasters.append(exif_df_android)\n",
    "        return exif_df_android.to_csv('disasters.csv', mode='a', header=False, index=False)"
   ]
  },
  {
   "cell_type": "code",
   "execution_count": 7,
   "metadata": {},
   "outputs": [],
   "source": [
    "get_exif_data('Assets/trial2.jpg')"
   ]
  },
  {
   "cell_type": "code",
   "execution_count": 4,
   "metadata": {},
   "outputs": [
    {
     "data": {
      "text/html": [
       "<div>\n",
       "<style scoped>\n",
       "    .dataframe tbody tr th:only-of-type {\n",
       "        vertical-align: middle;\n",
       "    }\n",
       "\n",
       "    .dataframe tbody tr th {\n",
       "        vertical-align: top;\n",
       "    }\n",
       "\n",
       "    .dataframe thead th {\n",
       "        text-align: right;\n",
       "    }\n",
       "</style>\n",
       "<table border=\"1\" class=\"dataframe\">\n",
       "  <thead>\n",
       "    <tr style=\"text-align: right;\">\n",
       "      <th></th>\n",
       "      <th>GPSLongitude</th>\n",
       "      <th>GPSLatitudeRef</th>\n",
       "      <th>GPSLatitude</th>\n",
       "      <th>GPSLongitudeRef</th>\n",
       "      <th>DateTimeOriginal</th>\n",
       "      <th>PhotoName</th>\n",
       "    </tr>\n",
       "  </thead>\n",
       "  <tbody>\n",
       "  </tbody>\n",
       "</table>\n",
       "</div>"
      ],
      "text/plain": [
       "Empty DataFrame\n",
       "Columns: [GPSLongitude, GPSLatitudeRef, GPSLatitude, GPSLongitudeRef, DateTimeOriginal, PhotoName]\n",
       "Index: []"
      ]
     },
     "execution_count": 4,
     "metadata": {},
     "output_type": "execute_result"
    }
   ],
   "source": [
    "disasters"
   ]
  },
  {
   "cell_type": "code",
   "execution_count": 8,
   "metadata": {},
   "outputs": [],
   "source": [
    "disasters = pd.read_csv('disasters.csv')"
   ]
  },
  {
   "cell_type": "code",
   "execution_count": 9,
   "metadata": {},
   "outputs": [
    {
     "data": {
      "text/html": [
       "<div>\n",
       "<style scoped>\n",
       "    .dataframe tbody tr th:only-of-type {\n",
       "        vertical-align: middle;\n",
       "    }\n",
       "\n",
       "    .dataframe tbody tr th {\n",
       "        vertical-align: top;\n",
       "    }\n",
       "\n",
       "    .dataframe thead th {\n",
       "        text-align: right;\n",
       "    }\n",
       "</style>\n",
       "<table border=\"1\" class=\"dataframe\">\n",
       "  <thead>\n",
       "    <tr style=\"text-align: right;\">\n",
       "      <th></th>\n",
       "      <th>GPSLongitude</th>\n",
       "      <th>GPSLatitudeRef</th>\n",
       "      <th>GPSLatitude</th>\n",
       "      <th>GPSLongitudeRef</th>\n",
       "      <th>DateTimeOriginal</th>\n",
       "      <th>PhotoName</th>\n",
       "    </tr>\n",
       "  </thead>\n",
       "  <tbody>\n",
       "    <tr>\n",
       "      <th>0</th>\n",
       "      <td>((122, 1), (22, 1), (1989, 100))</td>\n",
       "      <td>N</td>\n",
       "      <td>((47, 1), (38, 1), (1033, 100))</td>\n",
       "      <td>W</td>\n",
       "      <td>2020:06:11 12:01:35</td>\n",
       "      <td>trial.jpg</td>\n",
       "    </tr>\n",
       "    <tr>\n",
       "      <th>1</th>\n",
       "      <td>((135, 1), (46, 1), (5240, 100))</td>\n",
       "      <td>N</td>\n",
       "      <td>((34, 1), (58, 1), (850, 100))</td>\n",
       "      <td>E</td>\n",
       "      <td>2019:10:15 04:43:23</td>\n",
       "      <td>trial2.jpg</td>\n",
       "    </tr>\n",
       "  </tbody>\n",
       "</table>\n",
       "</div>"
      ],
      "text/plain": [
       "                       GPSLongitude GPSLatitudeRef  \\\n",
       "0  ((122, 1), (22, 1), (1989, 100))              N   \n",
       "1  ((135, 1), (46, 1), (5240, 100))              N   \n",
       "\n",
       "                       GPSLatitude GPSLongitudeRef     DateTimeOriginal  \\\n",
       "0  ((47, 1), (38, 1), (1033, 100))               W  2020:06:11 12:01:35   \n",
       "1   ((34, 1), (58, 1), (850, 100))               E  2019:10:15 04:43:23   \n",
       "\n",
       "    PhotoName  \n",
       "0   trial.jpg  \n",
       "1  trial2.jpg  "
      ]
     },
     "execution_count": 9,
     "metadata": {},
     "output_type": "execute_result"
    }
   ],
   "source": [
    "disasters.head()"
   ]
  },
  {
   "cell_type": "code",
   "execution_count": null,
   "metadata": {},
   "outputs": [],
   "source": []
  }
 ],
 "metadata": {
  "kernelspec": {
   "display_name": "Python 3",
   "language": "python",
   "name": "python3"
  },
  "language_info": {
   "codemirror_mode": {
    "name": "ipython",
    "version": 3
   },
   "file_extension": ".py",
   "mimetype": "text/x-python",
   "name": "python",
   "nbconvert_exporter": "python",
   "pygments_lexer": "ipython3",
   "version": "3.7.6"
  }
 },
 "nbformat": 4,
 "nbformat_minor": 4
}
